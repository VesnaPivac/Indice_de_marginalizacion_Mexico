{
 "cells": [
  {
   "cell_type": "markdown",
   "id": "9e9c6132-2271-410f-8b6b-11e1a9d2dd27",
   "metadata": {},
   "source": [
    "# Proyecto de programación: El indice de marginalización de México"
   ]
  },
  {
   "cell_type": "code",
   "execution_count": 39,
   "id": "638038b8-4f5e-46c3-a803-a14ab4eaf0f0",
   "metadata": {
    "tags": []
   },
   "outputs": [],
   "source": [
    "import pandas as pd\n",
    "import matplotlib.pyplot as plt\n",
    "import plotly as px"
   ]
  },
  {
   "cell_type": "code",
   "execution_count": 2,
   "id": "3eb3c21c-c7cd-490a-8a25-fa17e4562ed4",
   "metadata": {
    "tags": []
   },
   "outputs": [],
   "source": [
    "# !pip install openpyxl\n",
    "# !pip install xlrd"
   ]
  },
  {
   "cell_type": "markdown",
   "id": "5bc258f5-ed9e-4027-8c40-ef25574017ca",
   "metadata": {
    "tags": []
   },
   "source": [
    "### a. Descargar y Leer el archivo de Base de Datos por Municipio 2020 del índice de marginación desde la página de descargas del gobierno federal mexicano en un dataframe. Los datos se encuentran en la pestaña \"IMM 2020\"."
   ]
  },
  {
   "cell_type": "code",
   "execution_count": 91,
   "id": "5d7d221e-45ee-48e7-8d35-dde0959ccd1a",
   "metadata": {
    "tags": []
   },
   "outputs": [],
   "source": [
    "df = pd.read_excel('http://www.conapo.gob.mx/work/models/CONAPO/Marginacion/Datos_Abiertos/Municipio/IMM_2020.xls',sheet_name='IMM_2020')  "
   ]
  },
  {
   "cell_type": "code",
   "execution_count": 92,
   "id": "e530138a-cb95-4ac9-a3aa-4c52fe123bad",
   "metadata": {
    "tags": []
   },
   "outputs": [
    {
     "data": {
      "text/html": [
       "<div>\n",
       "<style scoped>\n",
       "    .dataframe tbody tr th:only-of-type {\n",
       "        vertical-align: middle;\n",
       "    }\n",
       "\n",
       "    .dataframe tbody tr th {\n",
       "        vertical-align: top;\n",
       "    }\n",
       "\n",
       "    .dataframe thead th {\n",
       "        text-align: right;\n",
       "    }\n",
       "</style>\n",
       "<table border=\"1\" class=\"dataframe\">\n",
       "  <thead>\n",
       "    <tr style=\"text-align: right;\">\n",
       "      <th></th>\n",
       "      <th>CVE_ENT</th>\n",
       "      <th>NOM_ENT</th>\n",
       "      <th>CVE_MUN</th>\n",
       "      <th>NOM_MUN</th>\n",
       "      <th>POB_TOT</th>\n",
       "      <th>ANALF</th>\n",
       "      <th>SBASC</th>\n",
       "      <th>OVSDE</th>\n",
       "      <th>OVSEE</th>\n",
       "      <th>OVSAE</th>\n",
       "      <th>OVPT</th>\n",
       "      <th>VHAC</th>\n",
       "      <th>PL.5000</th>\n",
       "      <th>PO2SM</th>\n",
       "      <th>IM_2020</th>\n",
       "      <th>GM_2020</th>\n",
       "      <th>IMN_2020</th>\n",
       "    </tr>\n",
       "  </thead>\n",
       "  <tbody>\n",
       "    <tr>\n",
       "      <th>0</th>\n",
       "      <td>1</td>\n",
       "      <td>Aguascalientes</td>\n",
       "      <td>1001</td>\n",
       "      <td>Aguascalientes</td>\n",
       "      <td>948990</td>\n",
       "      <td>1.644738</td>\n",
       "      <td>20.367220</td>\n",
       "      <td>0.104799</td>\n",
       "      <td>0.113169</td>\n",
       "      <td>0.378610</td>\n",
       "      <td>0.591434</td>\n",
       "      <td>10.339530</td>\n",
       "      <td>7.523683</td>\n",
       "      <td>54.226594</td>\n",
       "      <td>60.318795</td>\n",
       "      <td>Muy bajo</td>\n",
       "      <td>0.944508</td>\n",
       "    </tr>\n",
       "    <tr>\n",
       "      <th>1</th>\n",
       "      <td>1</td>\n",
       "      <td>Aguascalientes</td>\n",
       "      <td>1002</td>\n",
       "      <td>Asientos</td>\n",
       "      <td>51536</td>\n",
       "      <td>3.526405</td>\n",
       "      <td>33.906364</td>\n",
       "      <td>2.650373</td>\n",
       "      <td>0.486448</td>\n",
       "      <td>0.858160</td>\n",
       "      <td>1.352430</td>\n",
       "      <td>22.942305</td>\n",
       "      <td>78.221049</td>\n",
       "      <td>78.565471</td>\n",
       "      <td>56.546071</td>\n",
       "      <td>Muy bajo</td>\n",
       "      <td>0.885433</td>\n",
       "    </tr>\n",
       "    <tr>\n",
       "      <th>2</th>\n",
       "      <td>1</td>\n",
       "      <td>Aguascalientes</td>\n",
       "      <td>1003</td>\n",
       "      <td>Calvillo</td>\n",
       "      <td>58250</td>\n",
       "      <td>4.491509</td>\n",
       "      <td>42.482450</td>\n",
       "      <td>0.365177</td>\n",
       "      <td>0.516760</td>\n",
       "      <td>0.800978</td>\n",
       "      <td>1.040411</td>\n",
       "      <td>19.219858</td>\n",
       "      <td>51.301288</td>\n",
       "      <td>79.259777</td>\n",
       "      <td>57.058251</td>\n",
       "      <td>Muy bajo</td>\n",
       "      <td>0.893453</td>\n",
       "    </tr>\n",
       "    <tr>\n",
       "      <th>3</th>\n",
       "      <td>1</td>\n",
       "      <td>Aguascalientes</td>\n",
       "      <td>1004</td>\n",
       "      <td>Cosío</td>\n",
       "      <td>17000</td>\n",
       "      <td>3.144867</td>\n",
       "      <td>27.696745</td>\n",
       "      <td>0.712855</td>\n",
       "      <td>0.577354</td>\n",
       "      <td>0.659833</td>\n",
       "      <td>1.030989</td>\n",
       "      <td>22.716866</td>\n",
       "      <td>65.470588</td>\n",
       "      <td>81.726369</td>\n",
       "      <td>57.114030</td>\n",
       "      <td>Muy bajo</td>\n",
       "      <td>0.894326</td>\n",
       "    </tr>\n",
       "    <tr>\n",
       "      <th>4</th>\n",
       "      <td>1</td>\n",
       "      <td>Aguascalientes</td>\n",
       "      <td>1005</td>\n",
       "      <td>Jesús María</td>\n",
       "      <td>129929</td>\n",
       "      <td>2.380588</td>\n",
       "      <td>26.692477</td>\n",
       "      <td>0.277034</td>\n",
       "      <td>0.354957</td>\n",
       "      <td>0.860426</td>\n",
       "      <td>1.312652</td>\n",
       "      <td>16.404575</td>\n",
       "      <td>37.164143</td>\n",
       "      <td>56.748753</td>\n",
       "      <td>59.011762</td>\n",
       "      <td>Muy bajo</td>\n",
       "      <td>0.924042</td>\n",
       "    </tr>\n",
       "  </tbody>\n",
       "</table>\n",
       "</div>"
      ],
      "text/plain": [
       "   CVE_ENT         NOM_ENT  CVE_MUN         NOM_MUN  POB_TOT     ANALF  \\\n",
       "0        1  Aguascalientes     1001  Aguascalientes   948990  1.644738   \n",
       "1        1  Aguascalientes     1002        Asientos    51536  3.526405   \n",
       "2        1  Aguascalientes     1003        Calvillo    58250  4.491509   \n",
       "3        1  Aguascalientes     1004           Cosío    17000  3.144867   \n",
       "4        1  Aguascalientes     1005     Jesús María   129929  2.380588   \n",
       "\n",
       "       SBASC     OVSDE     OVSEE     OVSAE      OVPT       VHAC    PL.5000  \\\n",
       "0  20.367220  0.104799  0.113169  0.378610  0.591434  10.339530   7.523683   \n",
       "1  33.906364  2.650373  0.486448  0.858160  1.352430  22.942305  78.221049   \n",
       "2  42.482450  0.365177  0.516760  0.800978  1.040411  19.219858  51.301288   \n",
       "3  27.696745  0.712855  0.577354  0.659833  1.030989  22.716866  65.470588   \n",
       "4  26.692477  0.277034  0.354957  0.860426  1.312652  16.404575  37.164143   \n",
       "\n",
       "       PO2SM    IM_2020   GM_2020  IMN_2020  \n",
       "0  54.226594  60.318795  Muy bajo  0.944508  \n",
       "1  78.565471  56.546071  Muy bajo  0.885433  \n",
       "2  79.259777  57.058251  Muy bajo  0.893453  \n",
       "3  81.726369  57.114030  Muy bajo  0.894326  \n",
       "4  56.748753  59.011762  Muy bajo  0.924042  "
      ]
     },
     "execution_count": 92,
     "metadata": {},
     "output_type": "execute_result"
    }
   ],
   "source": [
    "df.head()"
   ]
  },
  {
   "cell_type": "markdown",
   "id": "14123bc8-dd0b-4bf4-8660-eec61979e77e",
   "metadata": {
    "tags": []
   },
   "source": [
    "### b. Mostrar la descripción del DataFrame (medias, máximos mínimos, etc...) mostrar algunos hallazgos interesantes de la simple inspección visual y por estadísticas básicas de los datos."
   ]
  },
  {
   "cell_type": "code",
   "execution_count": 93,
   "id": "fe89b2ac-774c-4e99-8b31-0410f26e0b03",
   "metadata": {
    "tags": []
   },
   "outputs": [
    {
     "data": {
      "text/html": [
       "<div>\n",
       "<style scoped>\n",
       "    .dataframe tbody tr th:only-of-type {\n",
       "        vertical-align: middle;\n",
       "    }\n",
       "\n",
       "    .dataframe tbody tr th {\n",
       "        vertical-align: top;\n",
       "    }\n",
       "\n",
       "    .dataframe thead th {\n",
       "        text-align: right;\n",
       "    }\n",
       "</style>\n",
       "<table border=\"1\" class=\"dataframe\">\n",
       "  <thead>\n",
       "    <tr style=\"text-align: right;\">\n",
       "      <th></th>\n",
       "      <th>CVE_ENT</th>\n",
       "      <th>CVE_MUN</th>\n",
       "      <th>POB_TOT</th>\n",
       "      <th>ANALF</th>\n",
       "      <th>SBASC</th>\n",
       "      <th>OVSDE</th>\n",
       "      <th>OVSEE</th>\n",
       "      <th>OVSAE</th>\n",
       "      <th>OVPT</th>\n",
       "      <th>VHAC</th>\n",
       "      <th>PL.5000</th>\n",
       "      <th>PO2SM</th>\n",
       "      <th>IM_2020</th>\n",
       "      <th>IMN_2020</th>\n",
       "    </tr>\n",
       "  </thead>\n",
       "  <tbody>\n",
       "    <tr>\n",
       "      <th>count</th>\n",
       "      <td>2469.000000</td>\n",
       "      <td>2469.000000</td>\n",
       "      <td>2.469000e+03</td>\n",
       "      <td>2469.000000</td>\n",
       "      <td>2469.000000</td>\n",
       "      <td>2469.000000</td>\n",
       "      <td>2469.000000</td>\n",
       "      <td>2469.000000</td>\n",
       "      <td>2469.000000</td>\n",
       "      <td>2469.000000</td>\n",
       "      <td>2469.000000</td>\n",
       "      <td>2469.000000</td>\n",
       "      <td>2469.000000</td>\n",
       "      <td>2469.000000</td>\n",
       "    </tr>\n",
       "    <tr>\n",
       "      <th>mean</th>\n",
       "      <td>19.215472</td>\n",
       "      <td>19324.164844</td>\n",
       "      <td>5.103849e+04</td>\n",
       "      <td>10.164466</td>\n",
       "      <td>45.853026</td>\n",
       "      <td>3.159963</td>\n",
       "      <td>1.500793</td>\n",
       "      <td>6.118145</td>\n",
       "      <td>7.987232</td>\n",
       "      <td>26.566286</td>\n",
       "      <td>69.900469</td>\n",
       "      <td>82.143854</td>\n",
       "      <td>53.955581</td>\n",
       "      <td>0.844869</td>\n",
       "    </tr>\n",
       "    <tr>\n",
       "      <th>std</th>\n",
       "      <td>7.367340</td>\n",
       "      <td>7382.892458</td>\n",
       "      <td>1.469907e+05</td>\n",
       "      <td>7.633633</td>\n",
       "      <td>13.981594</td>\n",
       "      <td>5.289299</td>\n",
       "      <td>2.769167</td>\n",
       "      <td>9.245995</td>\n",
       "      <td>8.973591</td>\n",
       "      <td>10.586540</td>\n",
       "      <td>35.267726</td>\n",
       "      <td>11.830444</td>\n",
       "      <td>3.904590</td>\n",
       "      <td>0.061140</td>\n",
       "    </tr>\n",
       "    <tr>\n",
       "      <th>min</th>\n",
       "      <td>1.000000</td>\n",
       "      <td>1001.000000</td>\n",
       "      <td>8.100000e+01</td>\n",
       "      <td>0.353446</td>\n",
       "      <td>5.535137</td>\n",
       "      <td>0.000000</td>\n",
       "      <td>0.000000</td>\n",
       "      <td>0.000000</td>\n",
       "      <td>0.000000</td>\n",
       "      <td>3.950392</td>\n",
       "      <td>0.000000</td>\n",
       "      <td>28.453113</td>\n",
       "      <td>21.406635</td>\n",
       "      <td>0.335198</td>\n",
       "    </tr>\n",
       "    <tr>\n",
       "      <th>25%</th>\n",
       "      <td>14.000000</td>\n",
       "      <td>14079.000000</td>\n",
       "      <td>4.489000e+03</td>\n",
       "      <td>4.427755</td>\n",
       "      <td>35.737568</td>\n",
       "      <td>0.651869</td>\n",
       "      <td>0.366077</td>\n",
       "      <td>0.878499</td>\n",
       "      <td>1.654653</td>\n",
       "      <td>18.725100</td>\n",
       "      <td>40.129696</td>\n",
       "      <td>74.615600</td>\n",
       "      <td>51.844432</td>\n",
       "      <td>0.811812</td>\n",
       "    </tr>\n",
       "    <tr>\n",
       "      <th>50%</th>\n",
       "      <td>20.000000</td>\n",
       "      <td>20226.000000</td>\n",
       "      <td>1.355200e+04</td>\n",
       "      <td>8.202762</td>\n",
       "      <td>46.339439</td>\n",
       "      <td>1.428250</td>\n",
       "      <td>0.828157</td>\n",
       "      <td>2.452316</td>\n",
       "      <td>4.714141</td>\n",
       "      <td>25.000000</td>\n",
       "      <td>100.000000</td>\n",
       "      <td>84.643266</td>\n",
       "      <td>54.423506</td>\n",
       "      <td>0.852196</td>\n",
       "    </tr>\n",
       "    <tr>\n",
       "      <th>75%</th>\n",
       "      <td>24.000000</td>\n",
       "      <td>24027.000000</td>\n",
       "      <td>3.528400e+04</td>\n",
       "      <td>13.787294</td>\n",
       "      <td>55.856378</td>\n",
       "      <td>3.342618</td>\n",
       "      <td>1.678328</td>\n",
       "      <td>7.285869</td>\n",
       "      <td>11.029646</td>\n",
       "      <td>32.820816</td>\n",
       "      <td>100.000000</td>\n",
       "      <td>91.620112</td>\n",
       "      <td>56.696126</td>\n",
       "      <td>0.887782</td>\n",
       "    </tr>\n",
       "    <tr>\n",
       "      <th>max</th>\n",
       "      <td>32.000000</td>\n",
       "      <td>32058.000000</td>\n",
       "      <td>1.922523e+06</td>\n",
       "      <td>53.071253</td>\n",
       "      <td>88.328076</td>\n",
       "      <td>64.450424</td>\n",
       "      <td>53.065463</td>\n",
       "      <td>81.788441</td>\n",
       "      <td>68.149764</td>\n",
       "      <td>69.564018</td>\n",
       "      <td>100.000000</td>\n",
       "      <td>100.000000</td>\n",
       "      <td>62.397145</td>\n",
       "      <td>0.977052</td>\n",
       "    </tr>\n",
       "  </tbody>\n",
       "</table>\n",
       "</div>"
      ],
      "text/plain": [
       "           CVE_ENT       CVE_MUN       POB_TOT        ANALF        SBASC  \\\n",
       "count  2469.000000   2469.000000  2.469000e+03  2469.000000  2469.000000   \n",
       "mean     19.215472  19324.164844  5.103849e+04    10.164466    45.853026   \n",
       "std       7.367340   7382.892458  1.469907e+05     7.633633    13.981594   \n",
       "min       1.000000   1001.000000  8.100000e+01     0.353446     5.535137   \n",
       "25%      14.000000  14079.000000  4.489000e+03     4.427755    35.737568   \n",
       "50%      20.000000  20226.000000  1.355200e+04     8.202762    46.339439   \n",
       "75%      24.000000  24027.000000  3.528400e+04    13.787294    55.856378   \n",
       "max      32.000000  32058.000000  1.922523e+06    53.071253    88.328076   \n",
       "\n",
       "             OVSDE        OVSEE        OVSAE         OVPT         VHAC  \\\n",
       "count  2469.000000  2469.000000  2469.000000  2469.000000  2469.000000   \n",
       "mean      3.159963     1.500793     6.118145     7.987232    26.566286   \n",
       "std       5.289299     2.769167     9.245995     8.973591    10.586540   \n",
       "min       0.000000     0.000000     0.000000     0.000000     3.950392   \n",
       "25%       0.651869     0.366077     0.878499     1.654653    18.725100   \n",
       "50%       1.428250     0.828157     2.452316     4.714141    25.000000   \n",
       "75%       3.342618     1.678328     7.285869    11.029646    32.820816   \n",
       "max      64.450424    53.065463    81.788441    68.149764    69.564018   \n",
       "\n",
       "           PL.5000        PO2SM      IM_2020     IMN_2020  \n",
       "count  2469.000000  2469.000000  2469.000000  2469.000000  \n",
       "mean     69.900469    82.143854    53.955581     0.844869  \n",
       "std      35.267726    11.830444     3.904590     0.061140  \n",
       "min       0.000000    28.453113    21.406635     0.335198  \n",
       "25%      40.129696    74.615600    51.844432     0.811812  \n",
       "50%     100.000000    84.643266    54.423506     0.852196  \n",
       "75%     100.000000    91.620112    56.696126     0.887782  \n",
       "max     100.000000   100.000000    62.397145     0.977052  "
      ]
     },
     "execution_count": 93,
     "metadata": {},
     "output_type": "execute_result"
    }
   ],
   "source": [
    "df.describe()"
   ]
  },
  {
   "cell_type": "markdown",
   "id": "0aca5d38-4ba6-4929-8806-c1698f2dde9b",
   "metadata": {},
   "source": [
    "En el análisis del DataFrame podemos observar las siguientes características mas relevantes de acuerdo a los datos:\n",
    "- El número de municipios en el estudio es de 2,469.\n",
    "- La media indica que, en promedio, los municipios tienen una población total de alrededor de 51,038 habitantes. El porcentaje promedio de personas analfabetas es del 10.16%, y el promedio de municipios con acceso a servicios básicos es del 45.85%.\n",
    "- La desviación estándar muestra la variabilidad de los datos. Por ejemplo, la desviación estándar de la población total es de aproximadamente 146,990 habitantes, lo que indica una amplia gama de tamaños de municipios.\n",
    "- Los valores mínimos revelan que algunos municipios tienen poblaciones muy pequeñas, con menos de 100 habitantes. Además, se observan niveles bajos de analfabetismo y acceso a servicios básicos.\n",
    "- Los valores máximos indican la presencia de municipios con poblaciones muy grandes, llegando a más de 1,922,523 habitantes. También se encuentran municipios con niveles altos de analfabetismo y falta de acceso a servicios básicos.\n",
    "Estas estadísticas brindan una visión general de las características del índice de marginación en los municipios de México, permitiendo identificar patrones y tendencias en los datos."
   ]
  },
  {
   "cell_type": "markdown",
   "id": "10ab5d9e-ea94-4be5-8f16-7668e3b1b10d",
   "metadata": {
    "tags": []
   },
   "source": [
    "### c. Realizar una gráfica que permita ver el porcentaje de municipios por estado con índices de marginación \"muy bajo\", \"bajo\", \"medio\", \"alto\" y \"muy alto\". Guarda la gráfica en archivo png"
   ]
  },
  {
   "cell_type": "code",
   "execution_count": 136,
   "id": "a5237815-cbf2-4584-a261-91d0c327f9f5",
   "metadata": {
    "tags": []
   },
   "outputs": [],
   "source": [
    "distribucion_df = df.groupby(['NOM_ENT','GM_2020'])[['NOM_MUN']].count().reset_index()\n",
    "group_totals = distribucion_df.groupby('NOM_ENT')['NOM_MUN'].transform('sum')"
   ]
  },
  {
   "cell_type": "code",
   "execution_count": 137,
   "id": "a907f416-622a-4eeb-9a38-ad18bae6a466",
   "metadata": {
    "tags": []
   },
   "outputs": [
    {
     "data": {
      "text/html": [
       "<div>\n",
       "<style scoped>\n",
       "    .dataframe tbody tr th:only-of-type {\n",
       "        vertical-align: middle;\n",
       "    }\n",
       "\n",
       "    .dataframe tbody tr th {\n",
       "        vertical-align: top;\n",
       "    }\n",
       "\n",
       "    .dataframe thead th {\n",
       "        text-align: right;\n",
       "    }\n",
       "</style>\n",
       "<table border=\"1\" class=\"dataframe\">\n",
       "  <thead>\n",
       "    <tr style=\"text-align: right;\">\n",
       "      <th></th>\n",
       "      <th>Estado</th>\n",
       "      <th>Grado de marginación</th>\n",
       "      <th>Municipios</th>\n",
       "      <th>Porcentaje</th>\n",
       "    </tr>\n",
       "  </thead>\n",
       "  <tbody>\n",
       "    <tr>\n",
       "      <th>0</th>\n",
       "      <td>Aguascalientes</td>\n",
       "      <td>Muy bajo</td>\n",
       "      <td>11</td>\n",
       "      <td>100.000000</td>\n",
       "    </tr>\n",
       "    <tr>\n",
       "      <th>1</th>\n",
       "      <td>Baja California</td>\n",
       "      <td>Medio</td>\n",
       "      <td>1</td>\n",
       "      <td>16.666667</td>\n",
       "    </tr>\n",
       "    <tr>\n",
       "      <th>2</th>\n",
       "      <td>Baja California</td>\n",
       "      <td>Muy bajo</td>\n",
       "      <td>5</td>\n",
       "      <td>83.333333</td>\n",
       "    </tr>\n",
       "    <tr>\n",
       "      <th>3</th>\n",
       "      <td>Baja California Sur</td>\n",
       "      <td>Muy bajo</td>\n",
       "      <td>5</td>\n",
       "      <td>100.000000</td>\n",
       "    </tr>\n",
       "    <tr>\n",
       "      <th>4</th>\n",
       "      <td>Campeche</td>\n",
       "      <td>Alto</td>\n",
       "      <td>2</td>\n",
       "      <td>16.666667</td>\n",
       "    </tr>\n",
       "  </tbody>\n",
       "</table>\n",
       "</div>"
      ],
      "text/plain": [
       "                Estado Grado de marginación  Municipios  Porcentaje\n",
       "0       Aguascalientes             Muy bajo          11  100.000000\n",
       "1      Baja California                Medio           1   16.666667\n",
       "2      Baja California             Muy bajo           5   83.333333\n",
       "3  Baja California Sur             Muy bajo           5  100.000000\n",
       "4             Campeche                 Alto           2   16.666667"
      ]
     },
     "execution_count": 137,
     "metadata": {},
     "output_type": "execute_result"
    }
   ],
   "source": [
    "distribucion_df['Porcentaje'] = (distribucion_df['NOM_MUN'] / group_totals) * 100\n",
    "distribucion_df = distribucion_df.rename(columns={'NOM_ENT':'Estado', 'GM_2020': 'Grado de marginación', 'NOM_MUN':'Municipios'})\n",
    "distribucion_df.head()"
   ]
  },
  {
   "cell_type": "code",
   "execution_count": 143,
   "id": "358f3da7-ee43-451c-8905-f61d89e6f1ac",
   "metadata": {
    "tags": []
   },
   "outputs": [
    {
     "data": {
      "image/png": "[encoded data removed]",
      "text/plain": [
       "<Figure size 640x480 with 1 Axes>"
      ]
     },
     "metadata": {},
     "output_type": "display_data"
    }
   ],
   "source": [
    "grouped = distribucion_df.groupby(['Estado', 'Grado de marginación'])['Porcentaje'].sum().unstack()\n",
    "\n",
    "grouped.plot(kind='bar', stacked=True)\n",
    "\n",
    "plt.title('Porcentaje de municipios por estados y nivel de marginalización')\n",
    "plt.xlabel('Estados')\n",
    "plt.ylabel('Porcentaje')\n",
    "plt.legend(bbox_to_anchor=(1.05, 1), loc='upper left')\n",
    "plt.xticks(fontsize=7) \n",
    "plt.savefig('MarginalizacionMunicipios.png', bbox_inches='tight')\n",
    "plt.show()"
   ]
  },
  {
   "cell_type": "markdown",
   "id": "7bddb701-415f-4687-bd20-4800245cb1fb",
   "metadata": {},
   "source": [
    "### d. Realizar una gráfica que muestre el porcentaje de la población, respecto a la población total de cada estado, con índices de marginación \"muy bajo\", \"bajo\", \"medio\", \"alto\" y \"muy alto\". Guarda la gráfica en formato jpg"
   ]
  },
  {
   "cell_type": "code",
   "execution_count": 128,
   "id": "4990c353-e8cb-4d16-9af2-aa20b8940c1e",
   "metadata": {
    "tags": []
   },
   "outputs": [
    {
     "data": {
      "text/html": [
       "<div>\n",
       "<style scoped>\n",
       "    .dataframe tbody tr th:only-of-type {\n",
       "        vertical-align: middle;\n",
       "    }\n",
       "\n",
       "    .dataframe tbody tr th {\n",
       "        vertical-align: top;\n",
       "    }\n",
       "\n",
       "    .dataframe thead th {\n",
       "        text-align: right;\n",
       "    }\n",
       "</style>\n",
       "<table border=\"1\" class=\"dataframe\">\n",
       "  <thead>\n",
       "    <tr style=\"text-align: right;\">\n",
       "      <th></th>\n",
       "      <th>Estado</th>\n",
       "      <th>Grado de marginación</th>\n",
       "      <th>Población</th>\n",
       "      <th>Porcentaje</th>\n",
       "    </tr>\n",
       "  </thead>\n",
       "  <tbody>\n",
       "    <tr>\n",
       "      <th>0</th>\n",
       "      <td>Aguascalientes</td>\n",
       "      <td>Muy bajo</td>\n",
       "      <td>1425607</td>\n",
       "      <td>100.000000</td>\n",
       "    </tr>\n",
       "    <tr>\n",
       "      <th>1</th>\n",
       "      <td>Baja California</td>\n",
       "      <td>Medio</td>\n",
       "      <td>117568</td>\n",
       "      <td>3.119325</td>\n",
       "    </tr>\n",
       "    <tr>\n",
       "      <th>2</th>\n",
       "      <td>Baja California</td>\n",
       "      <td>Muy bajo</td>\n",
       "      <td>3651452</td>\n",
       "      <td>96.880675</td>\n",
       "    </tr>\n",
       "    <tr>\n",
       "      <th>3</th>\n",
       "      <td>Baja California Sur</td>\n",
       "      <td>Muy bajo</td>\n",
       "      <td>798447</td>\n",
       "      <td>100.000000</td>\n",
       "    </tr>\n",
       "    <tr>\n",
       "      <th>4</th>\n",
       "      <td>Campeche</td>\n",
       "      <td>Alto</td>\n",
       "      <td>78627</td>\n",
       "      <td>8.469424</td>\n",
       "    </tr>\n",
       "  </tbody>\n",
       "</table>\n",
       "</div>"
      ],
      "text/plain": [
       "                Estado Grado de marginación  Población  Porcentaje\n",
       "0       Aguascalientes             Muy bajo    1425607  100.000000\n",
       "1      Baja California                Medio     117568    3.119325\n",
       "2      Baja California             Muy bajo    3651452   96.880675\n",
       "3  Baja California Sur             Muy bajo     798447  100.000000\n",
       "4             Campeche                 Alto      78627    8.469424"
      ]
     },
     "execution_count": 128,
     "metadata": {},
     "output_type": "execute_result"
    }
   ],
   "source": [
    "distribucion_poblacion_df = df.groupby(['NOM_ENT','GM_2020'])[['POB_TOT']].sum().reset_index()\n",
    "total_por_estado = distribucion_poblacion_df.groupby('NOM_ENT')['POB_TOT'].transform('sum')\n",
    "distribucion_poblacion_df['Porcentaje'] = (distribucion_poblacion_df['POB_TOT'] / total_por_estado) * 100\n",
    "distribucion_poblacion_df = distribucion_poblacion_df.rename(columns={'NOM_ENT':'Estado', 'GM_2020': 'Grado de marginación', 'POB_TOT':'Población'})\n",
    "distribucion_poblacion_df.head()"
   ]
  },
  {
   "cell_type": "code",
   "execution_count": 129,
   "id": "3881fc2e-aef1-4a0c-a48d-aa51cffb6ff4",
   "metadata": {
    "tags": []
   },
   "outputs": [
    {
     "data": {
      "image/png": "[encoded data removed]",
      "text/plain": [
       "<Figure size 640x480 with 1 Axes>"
      ]
     },
     "metadata": {},
     "output_type": "display_data"
    }
   ],
   "source": [
    "grouped = distribucion_poblacion_df.groupby(['Estado', 'Grado de marginación'])['Porcentaje'].sum().unstack()\n",
    "\n",
    "grouped.plot(kind='bar', stacked=True)\n",
    "\n",
    "plt.title('Porcentaje de poblacion por estados y nivel de marginalización')\n",
    "plt.xlabel('Estados')\n",
    "plt.ylabel('Porcentaje')\n",
    "plt.legend(bbox_to_anchor=(1.05, 1), loc='upper left')\n",
    "plt.xticks(fontsize=7) \n",
    "plt.savefig('MarginalizacionPoblacion.png', bbox_inches='tight')\n",
    "plt.show()"
   ]
  },
  {
   "cell_type": "code",
   "execution_count": 131,
   "id": "026d263f-9a02-4ac1-a524-8c3052f09dbb",
   "metadata": {
    "tags": []
   },
   "outputs": [
    {
     "data": {
      "text/plain": [
       "<Figure size 640x480 with 0 Axes>"
      ]
     },
     "metadata": {},
     "output_type": "display_data"
    }
   ],
   "source": [
    "plt.savefig('MarginalizacionPoblacion.png')"
   ]
  },
  {
   "cell_type": "markdown",
   "id": "58d15692-7d11-4682-ab7c-20e86e88f0b6",
   "metadata": {},
   "source": [
    "### e. ¿Hay coincidencias entra la gráficas anteriores?  ¿Algún hallazgo? Comenta tu análisis."
   ]
  },
  {
   "cell_type": "code",
   "execution_count": null,
   "id": "770746df-ddbc-4148-8653-ef1e1683630e",
   "metadata": {},
   "outputs": [],
   "source": [
    "# Creamos el dataframe con la información agrupada que se requiere para las gráficas\n",
    "distribucion_poblacion_df = marginacion_df.groupby(['NOM_ENT','GM_2020'])[['POB_TOT']].sum().reset_index()\n",
    "\n",
    "# Calculamos el total de población por estado\n",
    "total_por_estado = distribucion_poblacion_df.groupby('NOM_ENT')['POB_TOT'].transform('sum')\n",
    "\n",
    "# Calculamos el porcentaje relativo de la distribución de la población\n",
    "distribucion_poblacion_df['Porcentaje'] = (distribucion_poblacion_df['POB_TOT'] / total_por_estado) * 100\n",
    "\n",
    "# Renombramos las columnas\n",
    "distribucion_poblacion_df = distribucion_poblacion_df.rename(columns={'NOM_ENT':'Estado', 'GM_2020': 'Grado de marginación', 'POB_TOT':'Población'})\n",
    "distribucion_poblacion_df.head()"
   ]
  },
  {
   "cell_type": "markdown",
   "id": "e53f378a-50f1-4f44-9536-35a0b3fa452d",
   "metadata": {},
   "source": [
    "### f. Grafica la relación de porcentaje de analfabetismo respecto al porcentaje de poblaciones en localidades de menos de 5,000 habitantes."
   ]
  },
  {
   "cell_type": "code",
   "execution_count": 57,
   "id": "5a60b070-c1ec-413b-acec-d1ab7d64ccd6",
   "metadata": {},
   "outputs": [
    {
     "ename": "NameError",
     "evalue": "name 'sns' is not defined",
     "output_type": "error",
     "traceback": [
      "\u001b[1;31m---------------------------------------------------------------------------\u001b[0m",
      "\u001b[1;31mNameError\u001b[0m                                 Traceback (most recent call last)",
      "Cell \u001b[1;32mIn[57], line 1\u001b[0m\n\u001b[1;32m----> 1\u001b[0m \u001b[43msns\u001b[49m\u001b[38;5;241m.\u001b[39mscatterplot(x\u001b[38;5;241m=\u001b[39m\u001b[38;5;124m\"\u001b[39m\u001b[38;5;124mPL.5000\u001b[39m\u001b[38;5;124m\"\u001b[39m, y\u001b[38;5;241m=\u001b[39m\u001b[38;5;124m\"\u001b[39m\u001b[38;5;124mANALF\u001b[39m\u001b[38;5;124m\"\u001b[39m, data\u001b[38;5;241m=\u001b[39mdf)\n",
      "\u001b[1;31mNameError\u001b[0m: name 'sns' is not defined"
     ]
    }
   ],
   "source": []
  },
  {
   "cell_type": "markdown",
   "id": "781fc85c-e93a-41ed-9be9-2072b2602815",
   "metadata": {},
   "source": [
    "### g. ¿Existe una relación? ¿Cómo podrías analizar con que variable tiene mas corelación el porcentaje de analfabetismo en personas mayores de 15 años?"
   ]
  },
  {
   "cell_type": "code",
   "execution_count": null,
   "id": "f48a3234-e254-4885-9c32-683b0120b9f0",
   "metadata": {},
   "outputs": [],
   "source": []
  },
  {
   "cell_type": "markdown",
   "id": "c6937c3c-b21e-45e2-92d1-cd3ed240f1b3",
   "metadata": {},
   "source": [
    "### h. Desarrolla un nuevo DataFrame con indicadores interesantes por estado que se obtengan de los datos a nivel municipal y que pudieran ser de importancia a la hora de definir políticas públicas. Se va a calificar la originalidad de los indicadores. Justifica las decisiones que tomes, y guarda el nuevo dataframe en formato parquet."
   ]
  },
  {
   "cell_type": "code",
   "execution_count": null,
   "id": "69f2e20d-d2f9-4252-8ee7-d392d04610d2",
   "metadata": {},
   "outputs": [],
   "source": []
  }
 ],
 "metadata": {
  "kernelspec": {
   "display_name": "Python 3 (ipykernel)",
   "language": "python",
   "name": "python3"
  },
  "language_info": {
   "codemirror_mode": {
    "name": "ipython",
    "version": 3
   },
   "file_extension": ".py",
   "mimetype": "text/x-python",
   "name": "python",
   "nbconvert_exporter": "python",
   "pygments_lexer": "ipython3",
   "version": "3.10.9"
  }
 },
 "nbformat": 4,
 "nbformat_minor": 5
}
